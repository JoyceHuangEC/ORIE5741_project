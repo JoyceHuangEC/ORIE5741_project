{
 "cells": [
  {
   "cell_type": "code",
   "execution_count": 1,
   "metadata": {},
   "outputs": [],
   "source": [
    "import numpy as np\n",
    "import pandas as pd\n",
    "\n",
    "import statsmodels.api as sm\n",
    "\n",
    "import matplotlib.pyplot as plt \n",
    "%matplotlib inline\n",
    "\n",
    "import random as rand\n",
    "\n",
    "import warnings\n",
    "warnings.filterwarnings(\"ignore\")"
   ]
  },
  {
   "cell_type": "markdown",
   "metadata": {},
   "source": [
    "Then we load the data. We will also print a list of each columns together with its datatype, using the \"type\" function."
   ]
  },
  {
   "cell_type": "code",
   "execution_count": 4,
   "metadata": {},
   "outputs": [
    {
     "name": "stdout",
     "output_type": "stream",
     "text": [
      "0 \t budget \t\t\t <class 'numpy.int64'>\n",
      "1 \t genres \t\t\t <class 'str'>\n",
      "2 \t homepage \t\t\t <class 'str'>\n",
      "3 \t id \t\t\t <class 'numpy.int64'>\n",
      "4 \t keywords \t\t\t <class 'str'>\n",
      "5 \t original_language \t\t\t <class 'str'>\n",
      "6 \t original_title \t\t\t <class 'str'>\n",
      "7 \t overview \t\t\t <class 'str'>\n",
      "8 \t popularity \t\t\t <class 'numpy.float64'>\n",
      "9 \t production_companies \t\t\t <class 'str'>\n",
      "10 \t production_countries \t\t\t <class 'str'>\n",
      "11 \t release_date \t\t\t <class 'str'>\n",
      "12 \t revenue \t\t\t <class 'numpy.int64'>\n",
      "13 \t runtime \t\t\t <class 'numpy.float64'>\n",
      "14 \t spoken_languages \t\t\t <class 'str'>\n",
      "15 \t status \t\t\t <class 'str'>\n",
      "16 \t tagline \t\t\t <class 'str'>\n",
      "17 \t title \t\t\t <class 'str'>\n",
      "18 \t vote_average \t\t\t <class 'numpy.float64'>\n",
      "19 \t vote_count \t\t\t <class 'numpy.int64'>\n"
     ]
    }
   ],
   "source": [
    "np.random.seed(26)\n",
    "df = pd.read_csv('tmdb_5000_movies.csv') # Load in the csv file \n",
    "\n",
    "feature_names = df.columns\n",
    "for i in range(len(feature_names)):\n",
    "    print(str(i), \"\\t\", str(feature_names[i]),\"\\t\\t\\t\", str(type(df.iloc[0,i])))"
   ]
  }
 ],
 "metadata": {
  "kernelspec": {
   "display_name": "Python 3.8.10 ('venv5741': venv)",
   "language": "python",
   "name": "python3"
  },
  "language_info": {
   "codemirror_mode": {
    "name": "ipython",
    "version": 3
   },
   "file_extension": ".py",
   "mimetype": "text/x-python",
   "name": "python",
   "nbconvert_exporter": "python",
   "pygments_lexer": "ipython3",
   "version": "3.8.10"
  },
  "vscode": {
   "interpreter": {
    "hash": "557b5432e63c25bc0a47064c92a1c7acaa548717fa75dcf313c4d9862074aa00"
   }
  }
 },
 "nbformat": 4,
 "nbformat_minor": 2
}
