{
 "cells": [
  {
   "cell_type": "code",
   "execution_count": 25,
   "metadata": {},
   "outputs": [
    {
     "name": "stdout",
     "output_type": "stream",
     "text": [
      "Requirement already satisfied: statsmodels in /Users/zhangyihan/miniconda3/envs/orie/lib/python3.8/site-packages (0.13.5)\n",
      "Requirement already satisfied: patsy>=0.5.2 in /Users/zhangyihan/miniconda3/envs/orie/lib/python3.8/site-packages (from statsmodels) (0.5.3)\n",
      "Requirement already satisfied: numpy>=1.17 in /Users/zhangyihan/miniconda3/envs/orie/lib/python3.8/site-packages (from statsmodels) (1.24.2)\n",
      "Requirement already satisfied: pandas>=0.25 in /Users/zhangyihan/miniconda3/envs/orie/lib/python3.8/site-packages (from statsmodels) (1.5.3)\n",
      "Requirement already satisfied: packaging>=21.3 in /Users/zhangyihan/miniconda3/envs/orie/lib/python3.8/site-packages (from statsmodels) (23.0)\n",
      "Requirement already satisfied: scipy>=1.3 in /Users/zhangyihan/miniconda3/envs/orie/lib/python3.8/site-packages (from statsmodels) (1.10.0)\n",
      "Requirement already satisfied: pytz>=2020.1 in /Users/zhangyihan/miniconda3/envs/orie/lib/python3.8/site-packages (from pandas>=0.25->statsmodels) (2022.7.1)\n",
      "Requirement already satisfied: python-dateutil>=2.8.1 in /Users/zhangyihan/miniconda3/envs/orie/lib/python3.8/site-packages (from pandas>=0.25->statsmodels) (2.8.2)\n",
      "Requirement already satisfied: six in /Users/zhangyihan/miniconda3/envs/orie/lib/python3.8/site-packages (from patsy>=0.5.2->statsmodels) (1.16.0)\n"
     ]
    }
   ],
   "source": [
    "!pip install statsmodels"
   ]
  },
  {
   "cell_type": "code",
   "execution_count": 26,
   "metadata": {},
   "outputs": [],
   "source": [
    "import numpy as np\n",
    "import pandas as pd\n",
    "\n",
    "import statsmodels.api as sm\n",
    "\n",
    "import matplotlib.pyplot as plt \n",
    "%matplotlib inline\n",
    "\n",
    "import random as rand\n",
    "\n",
    "import warnings\n",
    "warnings.filterwarnings(\"ignore\")"
   ]
  },
  {
   "cell_type": "markdown",
   "metadata": {},
   "source": [
    "Then we load the data. We will also print a list of each columns together with its datatype, using the \"type\" function."
   ]
  },
  {
   "cell_type": "code",
   "execution_count": 27,
   "metadata": {},
   "outputs": [
    {
     "name": "stdout",
     "output_type": "stream",
     "text": [
      "0 \t budget \t\t\t <class 'numpy.int64'>\n",
      "1 \t genres \t\t\t <class 'str'>\n",
      "2 \t homepage \t\t\t <class 'str'>\n",
      "3 \t id \t\t\t <class 'numpy.int64'>\n",
      "4 \t keywords \t\t\t <class 'str'>\n",
      "5 \t original_language \t\t\t <class 'str'>\n",
      "6 \t original_title \t\t\t <class 'str'>\n",
      "7 \t overview \t\t\t <class 'str'>\n",
      "8 \t popularity \t\t\t <class 'numpy.float64'>\n",
      "9 \t production_companies \t\t\t <class 'str'>\n",
      "10 \t production_countries \t\t\t <class 'str'>\n",
      "11 \t release_date \t\t\t <class 'str'>\n",
      "12 \t revenue \t\t\t <class 'numpy.int64'>\n",
      "13 \t runtime \t\t\t <class 'numpy.float64'>\n",
      "14 \t spoken_languages \t\t\t <class 'str'>\n",
      "15 \t status \t\t\t <class 'str'>\n",
      "16 \t tagline \t\t\t <class 'str'>\n",
      "17 \t title \t\t\t <class 'str'>\n",
      "18 \t vote_average \t\t\t <class 'numpy.float64'>\n",
      "19 \t vote_count \t\t\t <class 'numpy.int64'>\n",
      "(4803, 20)\n"
     ]
    }
   ],
   "source": [
    "np.random.seed(26)\n",
    "df = pd.read_csv('tmdb_5000_movies.csv') # Load in the csv file \n",
    "\n",
    "feature_names = df.columns\n",
    "for i in range(len(feature_names)):\n",
    "    print(str(i), \"\\t\", str(feature_names[i]),\"\\t\\t\\t\", str(type(df.iloc[0,i])))\n",
    "\n",
    "print(df.shape)"
   ]
  },
  {
   "attachments": {},
   "cell_type": "markdown",
   "metadata": {},
   "source": [
    "# 1. Dealing with Nan/empty data\n",
    "\n",
    "Our goal is to predict the success of a movie (represented by its revenue) provided a list of features."
   ]
  },
  {
   "cell_type": "code",
   "execution_count": 28,
   "metadata": {},
   "outputs": [
    {
     "name": "stdout",
     "output_type": "stream",
     "text": [
      "(4803, 19)\n",
      "(3959, 19)\n"
     ]
    }
   ],
   "source": [
    "# delete id column (which is not relevent to our task)\n",
    "df = df.drop([\"id\"], axis=1)\n",
    "print(df.shape)\n",
    "\n",
    "feature_names = df.columns\n",
    "\n",
    "# delete rows which contains empty field\n",
    "for feature in feature_names:\n",
    "    if (feature != \"homepage\"):\n",
    "        df[feature].replace('', np.nan, inplace=True)\n",
    "        df = df[~df[feature].isna()]\n",
    "\n",
    "print(df.shape)"
   ]
  },
  {
   "attachments": {},
   "cell_type": "markdown",
   "metadata": {},
   "source": [
    "# 2. Split Train/Test\n",
    "\n",
    "optional: k-fold etc."
   ]
  },
  {
   "cell_type": "code",
   "execution_count": 29,
   "metadata": {},
   "outputs": [
    {
     "name": "stdout",
     "output_type": "stream",
     "text": [
      "Size of dataset:  3959\n",
      "Training dataset:           budget                                             genres  \\\n",
      "2874   12000000  [{\"id\": 9648, \"name\": \"Mystery\"}, {\"id\": 53, \"...   \n",
      "2654    7000000  [{\"id\": 53, \"name\": \"Thriller\"}, {\"id\": 878, \"...   \n",
      "1043   45000000  [{\"id\": 35, \"name\": \"Comedy\"}, {\"id\": 80, \"nam...   \n",
      "1439   35000000  [{\"id\": 28, \"name\": \"Action\"}, {\"id\": 12, \"nam...   \n",
      "3211    7000000  [{\"id\": 18, \"name\": \"Drama\"}, {\"id\": 10402, \"n...   \n",
      "...         ...                                                ...   \n",
      "1428   35000000  [{\"id\": 28, \"name\": \"Action\"}, {\"id\": 35, \"nam...   \n",
      "85    170000000  [{\"id\": 28, \"name\": \"Action\"}, {\"id\": 12, \"nam...   \n",
      "2029   22000000  [{\"id\": 14, \"name\": \"Fantasy\"}, {\"id\": 28, \"na...   \n",
      "1110   50000000  [{\"id\": 14, \"name\": \"Fantasy\"}, {\"id\": 28, \"na...   \n",
      "1650   30000000  [{\"id\": 28, \"name\": \"Action\"}, {\"id\": 878, \"na...   \n",
      "\n",
      "                                               homepage  \\\n",
      "2874                                                NaN   \n",
      "2654                     http://www.automata-movie.com/   \n",
      "1043                                                NaN   \n",
      "1439                                                NaN   \n",
      "3211                                                NaN   \n",
      "...                                                 ...   \n",
      "1428                                                NaN   \n",
      "85    http://www.captainamericathewintersoldiermovie...   \n",
      "2029  http://www.sonypictures.com/movies/underworld/...   \n",
      "1110  http://www.sonypictures.com/movies/underworlda...   \n",
      "1650                                                NaN   \n",
      "\n",
      "                                               keywords original_language  \\\n",
      "2874  [{\"id\": 1664, \"name\": \"eroticism\"}, {\"id\": 993...                en   \n",
      "2654  [{\"id\": 310, \"name\": \"artificial intelligence\"...                en   \n",
      "1043  [{\"id\": 4654, \"name\": \"undercover agent\"}, {\"i...                en   \n",
      "1439  [{\"id\": 736, \"name\": \"journalist\"}, {\"id\": 949...                en   \n",
      "3211  [{\"id\": 444, \"name\": \"taxi\"}, {\"id\": 727, \"nam...                en   \n",
      "...                                                 ...               ...   \n",
      "1428  [{\"id\": 2095, \"name\": \"anti hero\"}, {\"id\": 627...                en   \n",
      "85    [{\"id\": 521, \"name\": \"washington d.c.\"}, {\"id\"...                en   \n",
      "2029  [{\"id\": 810, \"name\": \"budapest\"}, {\"id\": 1552,...                en   \n",
      "1110  [{\"id\": 810, \"name\": \"budapest\"}, {\"id\": 2849,...                en   \n",
      "1650  [{\"id\": 1721, \"name\": \"fight\"}, {\"id\": 3203, \"...                en   \n",
      "\n",
      "                           original_title  \\\n",
      "2874                           In the Cut   \n",
      "2654                             Autómata   \n",
      "1043                    Miss Congeniality   \n",
      "1439                      Lions for Lambs   \n",
      "3211                          Crazy Heart   \n",
      "...                                   ...   \n",
      "1428                      Superhero Movie   \n",
      "85    Captain America: The Winter Soldier   \n",
      "2029                           Underworld   \n",
      "1110                Underworld: Evolution   \n",
      "1650                       Wing Commander   \n",
      "\n",
      "                                               overview  popularity  \\\n",
      "2874  Following the gruesome murder of a young woman...   10.536092   \n",
      "2654  Jacq Vaucan, an insurance agent of ROC robotic...   49.808505   \n",
      "1043  When the local FBI office receives a letter fr...   32.624355   \n",
      "1439  Three stories told simultaneous in ninety minu...    9.789027   \n",
      "3211  When reporter Jean Craddock interviews Bad Bla...   17.697042   \n",
      "...                                                 ...         ...   \n",
      "1428  The team behind Scary Movie takes on the comic...   19.088655   \n",
      "85    After the cataclysmic events in New York with ...   72.225265   \n",
      "2029  Vampires and werewolves have waged a nocturnal...   81.829237   \n",
      "1110  As the war between the vampires and the Lycans...   49.020045   \n",
      "1650  The Hollywood version of the popular video gam...    5.259585   \n",
      "\n",
      "                                   production_companies  \\\n",
      "2874  [{\"name\": \"Pathe Productions\", \"id\": 21126}, {...   \n",
      "2654  [{\"name\": \"Green Moon Productions\", \"id\": 4434...   \n",
      "1043  [{\"name\": \"Village Roadshow Pictures\", \"id\": 7...   \n",
      "1439  [{\"name\": \"Cruise/Wagner Productions\", \"id\": 4...   \n",
      "3211  [{\"name\": \"Fox Searchlight Pictures\", \"id\": 43...   \n",
      "...                                                 ...   \n",
      "1428          [{\"name\": \"Dimension Films\", \"id\": 7405}]   \n",
      "85              [{\"name\": \"Marvel Studios\", \"id\": 420}]   \n",
      "2029  [{\"name\": \"Lakeshore Entertainment\", \"id\": 126...   \n",
      "1110  [{\"name\": \"Lakeshore Entertainment\", \"id\": 126...   \n",
      "1650  [{\"name\": \"Carousel Picture Company, The\", \"id...   \n",
      "\n",
      "                                   production_countries release_date  runtime  \\\n",
      "2874  [{\"iso_3166_1\": \"AU\", \"name\": \"Australia\"}, {\"...   2003-09-09    119.0   \n",
      "2654            [{\"iso_3166_1\": \"ES\", \"name\": \"Spain\"}]   2014-10-09    110.0   \n",
      "1043  [{\"iso_3166_1\": \"US\", \"name\": \"United States o...   2000-12-14    111.0   \n",
      "1439  [{\"iso_3166_1\": \"US\", \"name\": \"United States o...   2007-10-22     92.0   \n",
      "3211  [{\"iso_3166_1\": \"US\", \"name\": \"United States o...   2009-12-16    112.0   \n",
      "...                                                 ...          ...      ...   \n",
      "1428  [{\"iso_3166_1\": \"US\", \"name\": \"United States o...   2008-03-27     85.0   \n",
      "85    [{\"iso_3166_1\": \"US\", \"name\": \"United States o...   2014-03-20    136.0   \n",
      "2029  [{\"iso_3166_1\": \"DE\", \"name\": \"Germany\"}, {\"is...   2003-09-19    121.0   \n",
      "1110  [{\"iso_3166_1\": \"US\", \"name\": \"United States o...   2006-01-12    106.0   \n",
      "1650  [{\"iso_3166_1\": \"LU\", \"name\": \"Luxembourg\"}, {...   1999-03-11    100.0   \n",
      "\n",
      "                                       spoken_languages    status  \\\n",
      "2874           [{\"iso_639_1\": \"en\", \"name\": \"English\"}]  Released   \n",
      "2654           [{\"iso_639_1\": \"en\", \"name\": \"English\"}]  Released   \n",
      "1043  [{\"iso_639_1\": \"en\", \"name\": \"English\"}, {\"iso...  Released   \n",
      "1439           [{\"iso_639_1\": \"en\", \"name\": \"English\"}]  Released   \n",
      "3211  [{\"iso_639_1\": \"en\", \"name\": \"English\"}, {\"iso...  Released   \n",
      "...                                                 ...       ...   \n",
      "1428           [{\"iso_639_1\": \"en\", \"name\": \"English\"}]  Released   \n",
      "85             [{\"iso_639_1\": \"en\", \"name\": \"English\"}]  Released   \n",
      "2029           [{\"iso_639_1\": \"en\", \"name\": \"English\"}]  Released   \n",
      "1110  [{\"iso_639_1\": \"en\", \"name\": \"English\"}, {\"iso...  Released   \n",
      "1650           [{\"iso_639_1\": \"en\", \"name\": \"English\"}]  Released   \n",
      "\n",
      "                                                tagline  \\\n",
      "2874    Everything you know about desire is dead wrong.   \n",
      "2654  Your time is coming to an end – Ours is now be...   \n",
      "1043               Never Mess With An Agent In A Dress.   \n",
      "1439  If you don't STAND for something, you might FA...   \n",
      "3211         The harder the life, the sweeter the song.   \n",
      "...                                                 ...   \n",
      "1428  The greatest Superhero movie of all time! (not...   \n",
      "85                                  In heroes we trust.   \n",
      "2029                                         Underworld   \n",
      "1110               My God. Brother, what have you done?   \n",
      "1650                      An action packed thrill ride!   \n",
      "\n",
      "                                    title  vote_average  vote_count  \n",
      "2874                           In the Cut           4.6          89  \n",
      "2654                             Automata           5.6         670  \n",
      "1043                    Miss Congeniality           6.1         961  \n",
      "1439                      Lions for Lambs           6.0         216  \n",
      "3211                          Crazy Heart           6.8         274  \n",
      "...                                   ...           ...         ...  \n",
      "1428                      Superhero Movie           4.9         379  \n",
      "85    Captain America: The Winter Soldier           7.6        5764  \n",
      "2029                           Underworld           6.6        2512  \n",
      "1110                Underworld: Evolution           6.4        1528  \n",
      "1650                       Wing Commander           4.0          72  \n",
      "\n",
      "[3167 rows x 18 columns]\n",
      "Training y:  2874           23\n",
      "2654            0\n",
      "1043    212000000\n",
      "1439     63215872\n",
      "3211     39462438\n",
      "          ...    \n",
      "1428     25871834\n",
      "85      714766572\n",
      "2029     95708457\n",
      "1110    111340801\n",
      "1650            0\n",
      "Name: revenue, Length: 3167, dtype: int64\n"
     ]
    }
   ],
   "source": [
    "df = df.sample(frac = 1) # we shuffle the data so that our train/test split will be truly random\n",
    "\n",
    "train_proportion = 0.8\n",
    "n = len(df)\n",
    "print('Size of dataset: ', str(n))\n",
    "\n",
    "# Put the first ntrain observations in the DataFrame df into the training set, and the rest into the test set\n",
    "t = int(train_proportion * n)\n",
    "\n",
    "target = df['revenue']\n",
    "data = df.loc[:, ~df.columns.isin(['revenue'])]\n",
    "\n",
    "# the following variable records the features of examples in the training set\n",
    "train_x = data.iloc[0:t]\n",
    "# the following variable records the features of examples in the test set\n",
    "test_x = data.iloc[t:]\n",
    "# the following variable records the labels of examples in the training set\n",
    "train_y = target[0:t]\n",
    "# the following variable records the labels of examples in the test set\n",
    "test_y = target[t:]\n",
    "\n",
    "# let's take a look\n",
    "print('Training dataset: ', train_x)\n",
    "print('Training y: ',train_y)"
   ]
  },
  {
   "attachments": {},
   "cell_type": "markdown",
   "metadata": {},
   "source": [
    "# 3. Boolean Data\n",
    "\n",
    "homepage: whether a movie has a home page"
   ]
  },
  {
   "cell_type": "code",
   "execution_count": 30,
   "metadata": {},
   "outputs": [],
   "source": [
    "# change homepage to boolean feature: whether a movie has a home page\n",
    "def string_to_bool(string):\n",
    "    if (string != \"\"):\n",
    "        return True\n",
    "    return False\n",
    "\n",
    "# change tagline to int feature: length of the tagline (if no tagline, len = 0)\n",
    "def string_to_int(string):\n",
    "    if (string == \"\"):\n",
    "        return 0\n",
    "    return len(string.split())\n",
    "\n",
    "\n",
    "label_str_to_bool = [\"homepage\"]\n",
    "df_homepage = df.loc[:, df.columns.isin(label_str_to_bool)].applymap(string_to_bool)\n",
    "label_str_to_int = [\"tagline\"]\n",
    "df_tagline = df.loc[:, df.columns.isin(label_str_to_int)].applymap(string_to_int)\n",
    "\n",
    "# print(df_tagline)"
   ]
  },
  {
   "cell_type": "code",
   "execution_count": 34,
   "metadata": {},
   "outputs": [],
   "source": [
    "train_vals_homepage = train_x.loc[:, train_x.columns.isin(label_str_to_bool)].applymap(string_to_bool)\n",
    "train_vals_homepage = np.asarray(train_vals_homepage)\n",
    "test_vals_homepage = test_x.loc[:, test_x.columns.isin(label_str_to_bool)].applymap(string_to_bool)\n",
    "test_vals_homepage = np.asarray(test_vals_homepage)\n",
    "\n",
    "train_vals_tagline = train_x.loc[:, train_x.columns.isin(label_str_to_int)].applymap(string_to_int)\n",
    "train_vals_tagline = np.asarray(train_vals_tagline)\n",
    "test_vals_tagline = test_x.loc[:, test_x.columns.isin(label_str_to_int)].applymap(string_to_int)\n",
    "test_vals_tagline = np.asarray(test_vals_tagline)"
   ]
  },
  {
   "cell_type": "code",
   "execution_count": 37,
   "metadata": {},
   "outputs": [
    {
     "name": "stdout",
     "output_type": "stream",
     "text": [
      "(3167, 1)\n",
      "(792, 1)\n"
     ]
    }
   ],
   "source": [
    "print(train_vals_tagline.shape)\n",
    "print(test_vals_tagline.shape)"
   ]
  }
 ],
 "metadata": {
  "kernelspec": {
   "display_name": "Python 3.8.10 ('venv5741': venv)",
   "language": "python",
   "name": "python3"
  },
  "language_info": {
   "codemirror_mode": {
    "name": "ipython",
    "version": 3
   },
   "file_extension": ".py",
   "mimetype": "text/x-python",
   "name": "python",
   "nbconvert_exporter": "python",
   "pygments_lexer": "ipython3",
   "version": "3.8.16"
  },
  "vscode": {
   "interpreter": {
    "hash": "557b5432e63c25bc0a47064c92a1c7acaa548717fa75dcf313c4d9862074aa00"
   }
  }
 },
 "nbformat": 4,
 "nbformat_minor": 2
}
